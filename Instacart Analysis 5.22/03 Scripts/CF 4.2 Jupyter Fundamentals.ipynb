{
 "cells": [
  {
   "cell_type": "markdown",
   "id": "3ad4d218",
   "metadata": {},
   "source": [
    "# Practicing Fundamentals\n",
    "## Table of Contents\n",
    "Practicing with different data types\n",
    "\n",
    "Simple math in python"
   ]
  },
  {
   "cell_type": "code",
   "execution_count": null,
   "id": "3102bf6f",
   "metadata": {},
   "outputs": [],
   "source": [
    "# Importing Libraries"
   ]
  },
  {
   "cell_type": "code",
   "execution_count": null,
   "id": "aa000f3f",
   "metadata": {},
   "outputs": [],
   "source": [
    "import pandas as pd\n",
    "import numpy as np\n",
    "import os"
   ]
  },
  {
   "cell_type": "markdown",
   "id": "cc0f4a66",
   "metadata": {},
   "source": [
    " ## Practicing with Data types"
   ]
  },
  {
   "cell_type": "code",
   "execution_count": null,
   "id": "eade74de",
   "metadata": {},
   "outputs": [],
   "source": [
    "# Code 3 different ways of reaching 100 by adding or subtracting"
   ]
  },
  {
   "cell_type": "code",
   "execution_count": null,
   "id": "d0700fea",
   "metadata": {},
   "outputs": [],
   "source": [
    "# 1."
   ]
  },
  {
   "cell_type": "code",
   "execution_count": 1,
   "id": "01927973",
   "metadata": {},
   "outputs": [],
   "source": [
    "a = 25\n",
    "b = 50\n",
    "c = 25"
   ]
  },
  {
   "cell_type": "code",
   "execution_count": 2,
   "id": "0817f2a7",
   "metadata": {},
   "outputs": [
    {
     "name": "stdout",
     "output_type": "stream",
     "text": [
      "100\n"
     ]
    }
   ],
   "source": [
    "print(a + b + c)"
   ]
  },
  {
   "cell_type": "code",
   "execution_count": null,
   "id": "96b5b316",
   "metadata": {},
   "outputs": [],
   "source": [
    "# 2. "
   ]
  },
  {
   "cell_type": "code",
   "execution_count": 3,
   "id": "54ae44b9",
   "metadata": {},
   "outputs": [],
   "source": [
    "d = 200\n",
    "e = 100"
   ]
  },
  {
   "cell_type": "code",
   "execution_count": 4,
   "id": "62cb9c45",
   "metadata": {},
   "outputs": [
    {
     "name": "stdout",
     "output_type": "stream",
     "text": [
      "100\n"
     ]
    }
   ],
   "source": [
    "print (d - e)"
   ]
  },
  {
   "cell_type": "code",
   "execution_count": null,
   "id": "b2fd0fc7",
   "metadata": {},
   "outputs": [],
   "source": [
    "# 3. "
   ]
  },
  {
   "cell_type": "code",
   "execution_count": 5,
   "id": "9d0e097e",
   "metadata": {},
   "outputs": [],
   "source": [
    "f = 20\n",
    "g = 5"
   ]
  },
  {
   "cell_type": "code",
   "execution_count": 6,
   "id": "3ac79380",
   "metadata": {},
   "outputs": [
    {
     "name": "stdout",
     "output_type": "stream",
     "text": [
      "100\n"
     ]
    }
   ],
   "source": [
    "print(f * g)"
   ]
  },
  {
   "cell_type": "code",
   "execution_count": null,
   "id": "0fd951d4",
   "metadata": {},
   "outputs": [],
   "source": [
    "# Code 2 floating-point variables and divide them by each other. "
   ]
  },
  {
   "cell_type": "code",
   "execution_count": 8,
   "id": "7fbfa95a",
   "metadata": {},
   "outputs": [],
   "source": [
    "h = 25.50\n",
    "i = 5.5"
   ]
  },
  {
   "cell_type": "code",
   "execution_count": 9,
   "id": "24a67892",
   "metadata": {},
   "outputs": [
    {
     "name": "stdout",
     "output_type": "stream",
     "text": [
      "4.636363636363637\n"
     ]
    }
   ],
   "source": [
    "print(h / i)"
   ]
  },
  {
   "cell_type": "code",
   "execution_count": 15,
   "id": "bbee49cc",
   "metadata": {},
   "outputs": [],
   "source": [
    "greeting = ('H'+ 'e' + 'l' + 'l' + 'o' + '!')"
   ]
  },
  {
   "cell_type": "code",
   "execution_count": 16,
   "id": "fd839754",
   "metadata": {},
   "outputs": [
    {
     "name": "stdout",
     "output_type": "stream",
     "text": [
      "Hello!\n"
     ]
    }
   ],
   "source": [
    "print(greeting)"
   ]
  },
  {
   "cell_type": "code",
   "execution_count": null,
   "id": "8da4aabb",
   "metadata": {},
   "outputs": [],
   "source": [
    "# Bonus Task - Create a command that makes a string appear 100 times"
   ]
  },
  {
   "cell_type": "code",
   "execution_count": 17,
   "id": "6415cbf8",
   "metadata": {},
   "outputs": [
    {
     "name": "stdout",
     "output_type": "stream",
     "text": [
      "BubblezBubblezBubblezBubblezBubblezBubblezBubblezBubblezBubblezBubblezBubblezBubblezBubblezBubblezBubblezBubblezBubblezBubblezBubblezBubblezBubblezBubblezBubblezBubblezBubblezBubblezBubblezBubblezBubblezBubblezBubblezBubblezBubblezBubblezBubblezBubblezBubblezBubblezBubblezBubblezBubblezBubblezBubblezBubblezBubblezBubblezBubblezBubblezBubblezBubblezBubblezBubblezBubblezBubblezBubblezBubblezBubblezBubblezBubblezBubblezBubblezBubblezBubblezBubblezBubblezBubblezBubblezBubblezBubblezBubblezBubblezBubblezBubblezBubblezBubblezBubblezBubblezBubblezBubblezBubblezBubblezBubblezBubblezBubblezBubblezBubblezBubblezBubblezBubblezBubblezBubblezBubblezBubblezBubblezBubblezBubblezBubblezBubblezBubblezBubblez\n"
     ]
    }
   ],
   "source": [
    "print('Bubblez' * 100)"
   ]
  },
  {
   "cell_type": "code",
   "execution_count": 19,
   "id": "12b82f3b",
   "metadata": {},
   "outputs": [],
   "source": [
    "nemo_quote = ('Bubblez')"
   ]
  },
  {
   "cell_type": "code",
   "execution_count": 20,
   "id": "4e09f7ab",
   "metadata": {},
   "outputs": [
    {
     "name": "stdout",
     "output_type": "stream",
     "text": [
      "BubblezBubblezBubblezBubblezBubblezBubblezBubblezBubblezBubblezBubblezBubblezBubblezBubblezBubblezBubblezBubblezBubblezBubblezBubblezBubblezBubblezBubblezBubblezBubblezBubblezBubblezBubblezBubblezBubblezBubblezBubblezBubblezBubblezBubblezBubblezBubblezBubblezBubblezBubblezBubblezBubblezBubblezBubblezBubblezBubblezBubblezBubblezBubblezBubblezBubblezBubblezBubblezBubblezBubblezBubblezBubblezBubblezBubblezBubblezBubblezBubblezBubblezBubblezBubblezBubblezBubblezBubblezBubblezBubblezBubblezBubblezBubblezBubblezBubblezBubblezBubblezBubblezBubblezBubblezBubblezBubblezBubblezBubblezBubblezBubblezBubblezBubblezBubblezBubblezBubblezBubblezBubblezBubblezBubblezBubblezBubblezBubblezBubblezBubblezBubblez\n"
     ]
    }
   ],
   "source": [
    "print(nemo_quote * 100)"
   ]
  }
 ],
 "metadata": {
  "kernelspec": {
   "display_name": "Python 3 (ipykernel)",
   "language": "python",
   "name": "python3"
  },
  "language_info": {
   "codemirror_mode": {
    "name": "ipython",
    "version": 3
   },
   "file_extension": ".py",
   "mimetype": "text/x-python",
   "name": "python",
   "nbconvert_exporter": "python",
   "pygments_lexer": "ipython3",
   "version": "3.9.7"
  }
 },
 "nbformat": 4,
 "nbformat_minor": 5
}
