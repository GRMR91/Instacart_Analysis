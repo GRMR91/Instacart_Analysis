{
 "cells": [
  {
   "cell_type": "markdown",
   "id": "e9e54862",
   "metadata": {},
   "source": [
    "# CF 4.8 Grouping Data & Aggregating Variables\n",
    "## Table of Contents\n",
    "1. Finding means\n",
    "\n",
    "2. Creating loyalty flag\n",
    "\n",
    "3. Creating spending flag\n",
    "\n",
    "4. Creating frequent/non-frequent flag"
   ]
  },
  {
   "cell_type": "code",
   "execution_count": null,
   "id": "5b50c59e",
   "metadata": {},
   "outputs": [],
   "source": [
    "# Importing Libraries\n",
    "import pandas as pd\n",
    "import numpy as np\n",
    "import os"
   ]
  },
  {
   "cell_type": "code",
   "execution_count": null,
   "id": "3fb9c596",
   "metadata": {},
   "outputs": [],
   "source": [
    "# Importing data\n",
    "path = r\"C:\\Users\\grace\\CareerFoundry\\CF.mod4 - Python Fundamentals for Data Analysts\""
   ]
  },
  {
   "cell_type": "code",
   "execution_count": null,
   "id": "49def1c3",
   "metadata": {},
   "outputs": [],
   "source": [
    "df = pd.read_pickle(os.path.join(path, '02 Data', 'Cleaned Data', 'orders_products_merged_v2.pkl'))"
   ]
  },
  {
   "cell_type": "code",
   "execution_count": null,
   "id": "792ccc61",
   "metadata": {},
   "outputs": [],
   "source": [
    "# performing data checks\n",
    "df.shape"
   ]
  },
  {
   "cell_type": "code",
   "execution_count": null,
   "id": "8f61af71",
   "metadata": {},
   "outputs": [],
   "source": [
    "pd.options.display.max_rows = None"
   ]
  },
  {
   "cell_type": "code",
   "execution_count": null,
   "id": "1c5ef368",
   "metadata": {},
   "outputs": [],
   "source": [
    "df.head(50)"
   ]
  },
  {
   "cell_type": "markdown",
   "id": "443931d7",
   "metadata": {},
   "source": [
    "\n",
    "    # Task 2 - Find the mean for the order_number by department_id for the entire dataframe and discuss results"
   ]
  },
  {
   "cell_type": "code",
   "execution_count": null,
   "id": "5c1cb29e",
   "metadata": {},
   "outputs": [],
   "source": [
    "df.groupby('department_id').agg({'order_number' : ['mean']})"
   ]
  },
  {
   "cell_type": "markdown",
   "id": "9057a30d",
   "metadata": {},
   "source": [
    "The two sets have very sililar means. This makes sense as the the fist subset used 1,000,000 rows, a large enough portion to expect the shape of the data to be reflective of the whole."
   ]
  },
  {
   "cell_type": "markdown",
   "id": "180022e0",
   "metadata": {},
   "source": [
    "    # Task 4 - create a loyalty flag for the above group/aggregation. "
   ]
  },
  {
   "cell_type": "code",
   "execution_count": null,
   "id": "c9c2bfa3",
   "metadata": {},
   "outputs": [],
   "source": [
    "#Transforming \n",
    "df['max_order'] = df.groupby(['user_id'])['order_number'].transform(np.max)"
   ]
  },
  {
   "cell_type": "code",
   "execution_count": null,
   "id": "de565ac0",
   "metadata": {},
   "outputs": [],
   "source": [
    "# Checking\n",
    "df.head(100)"
   ]
  },
  {
   "cell_type": "code",
   "execution_count": null,
   "id": "6118d129",
   "metadata": {},
   "outputs": [],
   "source": [
    "#Creating and assigning the loyalty flag for the new column"
   ]
  },
  {
   "cell_type": "code",
   "execution_count": null,
   "id": "6eb54844",
   "metadata": {},
   "outputs": [],
   "source": [
    "df.loc[df['max_order'] > 40, 'loyalty_flag'] = 'Loyal customer'"
   ]
  },
  {
   "cell_type": "code",
   "execution_count": null,
   "id": "dff4a447",
   "metadata": {},
   "outputs": [],
   "source": [
    "df.loc[(df['max_order'] <= 40) & (df['max_order'] > 10), 'loyalty_flag'] = 'Regular customer'"
   ]
  },
  {
   "cell_type": "code",
   "execution_count": null,
   "id": "66d68f55",
   "metadata": {},
   "outputs": [],
   "source": [
    "df.loc[df['max_order'] <= 10, 'loyalty_flag'] = 'New customer'"
   ]
  },
  {
   "cell_type": "code",
   "execution_count": null,
   "id": "333782a1",
   "metadata": {},
   "outputs": [],
   "source": [
    "# Checking frequency of flag\n",
    "df['loyalty_flag'].value_counts(dropna = False)"
   ]
  },
  {
   "cell_type": "code",
   "execution_count": null,
   "id": "ae77c227",
   "metadata": {},
   "outputs": [],
   "source": [
    "#Checking\n",
    "df.head(100)"
   ]
  },
  {
   "cell_type": "markdown",
   "id": "c9060ecf",
   "metadata": {},
   "source": [
    "    #Task 5 - Using the ablove loyalty flag to check the basic stats of the different customer types and comment on results"
   ]
  },
  {
   "cell_type": "code",
   "execution_count": null,
   "id": "c1046419",
   "metadata": {},
   "outputs": [],
   "source": [
    "df.groupby('loyalty_flag').agg({'prices' : ['mean', 'min', 'max']})"
   ]
  },
  {
   "cell_type": "code",
   "execution_count": null,
   "id": "b548514b",
   "metadata": {},
   "outputs": [],
   "source": [
    "# \n",
    "On average, Loyal customers buy the least expensive products. In fact the newer a customer the more expensive products they buy. "
   ]
  },
  {
   "cell_type": "markdown",
   "id": "2b923d68",
   "metadata": {},
   "source": [
    "    # Task 6 - Find the basic spending stats of our customers and create a spending flags based on how much they spend. "
   ]
  },
  {
   "cell_type": "code",
   "execution_count": null,
   "id": "3cf65ff2",
   "metadata": {},
   "outputs": [],
   "source": [
    "# Generating summary stats (used .head due to high number of customers)\n",
    "df.groupby('user_id').agg({'prices' : ['mean', 'min', 'max']}).head(20)"
   ]
  },
  {
   "cell_type": "code",
   "execution_count": null,
   "id": "1b0f29b2",
   "metadata": {},
   "outputs": [],
   "source": [
    "# Transforming\n",
    "df['spending'] = df.groupby(['user_id'])['prices'].transform(np.mean)"
   ]
  },
  {
   "cell_type": "code",
   "execution_count": null,
   "id": "e47c54b1",
   "metadata": {},
   "outputs": [],
   "source": [
    "#Checking\n",
    "df.head(50)"
   ]
  },
  {
   "cell_type": "code",
   "execution_count": null,
   "id": "f9504bcf",
   "metadata": {},
   "outputs": [],
   "source": [
    "# Creating flags\n",
    "df.loc[df['spending'] < 10, 'spending_flag'] = 'Low spender'"
   ]
  },
  {
   "cell_type": "code",
   "execution_count": null,
   "id": "0b5bf31c",
   "metadata": {},
   "outputs": [],
   "source": [
    "df.loc[df['spending'] > 10, 'spending_flag'] = 'High spender'"
   ]
  },
  {
   "cell_type": "code",
   "execution_count": null,
   "id": "a51398fa",
   "metadata": {},
   "outputs": [],
   "source": [
    "#Checking\n",
    "df.head(200)"
   ]
  },
  {
   "cell_type": "markdown",
   "id": "52697e14",
   "metadata": {},
   "source": [
    "        # Task 7 - Determine frequent/non-frequent customers and create flags accordingly"
   ]
  },
  {
   "cell_type": "code",
   "execution_count": null,
   "id": "495f57ea",
   "metadata": {},
   "outputs": [],
   "source": [
    "df.groupby('user_id').agg({'days_since_prior_order' : ['mean']})"
   ]
  },
  {
   "cell_type": "code",
   "execution_count": null,
   "id": "1bb74e2e",
   "metadata": {},
   "outputs": [],
   "source": [
    "df['order_frequency'] = df.groupby(['user_id'])['days_since_prior_order'].transform(np.max)"
   ]
  },
  {
   "cell_type": "code",
   "execution_count": null,
   "id": "9e3750d1",
   "metadata": {},
   "outputs": [],
   "source": [
    "#Checking\n",
    "df.head(50)"
   ]
  },
  {
   "cell_type": "code",
   "execution_count": null,
   "id": "4cd5e512",
   "metadata": {},
   "outputs": [],
   "source": [
    "# Creating Flag \n",
    "df.loc[df['order_frequency'] > 20, 'order_frequency_flag'] = 'Non-frequent customer'"
   ]
  },
  {
   "cell_type": "code",
   "execution_count": null,
   "id": "5675f5d9",
   "metadata": {},
   "outputs": [],
   "source": [
    "df.loc[df['order_frequency'] < 20, 'order_frequency_flag'] = 'Regular customer'"
   ]
  },
  {
   "cell_type": "code",
   "execution_count": null,
   "id": "fe7522e9",
   "metadata": {},
   "outputs": [],
   "source": [
    "df.loc[df['order_frequency'] <= 10, 'order_frequency_flag'] = 'Frequent customer'"
   ]
  },
  {
   "cell_type": "code",
   "execution_count": null,
   "id": "107c95ad",
   "metadata": {},
   "outputs": [],
   "source": [
    "df.head(50)"
   ]
  },
  {
   "cell_type": "code",
   "execution_count": null,
   "id": "fa3372c3",
   "metadata": {},
   "outputs": [],
   "source": [
    "df.to_pickle(os.path.join(path, '02 Data', 'Cleaned Data', 'orders_products_merged_v3.pkl'))"
   ]
  }
 ],
 "metadata": {
  "kernelspec": {
   "display_name": "Python 3 (ipykernel)",
   "language": "python",
   "name": "python3"
  },
  "language_info": {
   "codemirror_mode": {
    "name": "ipython",
    "version": 3
   },
   "file_extension": ".py",
   "mimetype": "text/x-python",
   "name": "python",
   "nbconvert_exporter": "python",
   "pygments_lexer": "ipython3",
   "version": "3.9.7"
  }
 },
 "nbformat": 4,
 "nbformat_minor": 5
}
