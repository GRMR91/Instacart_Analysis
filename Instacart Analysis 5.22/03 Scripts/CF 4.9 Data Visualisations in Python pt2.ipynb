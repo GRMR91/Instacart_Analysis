{
 "cells": [
  {
   "cell_type": "markdown",
   "id": "2143009c",
   "metadata": {},
   "source": [
    "# CF 4.9 Data Visualisations\n",
    "## Table of Contents\n",
    "1. Order_day_of_week bar\n",
    "\n",
    "2. Prices histogram\n",
    "\n",
    "3. Prices scatterplot\n",
    "\n",
    "4. Creating a 70/30 data sample\n",
    "\n",
    "5. Day of week line chart\n",
    "\n",
    "6. Hour of day histogram\n",
    "\n",
    "7. Loyalty bar\n",
    "\n",
    "8. Hour Prices line\n",
    "\n",
    "9. Age dependants line chart\n",
    "\n",
    "10. Age and spending line chart\n",
    "\n",
    "11. Saving visualisations"
   ]
  },
  {
   "cell_type": "code",
   "execution_count": 1,
   "id": "d519601a",
   "metadata": {},
   "outputs": [],
   "source": [
    "# Import libraries\n",
    "\n",
    "import pandas as pd\n",
    "import numpy as np\n",
    "import os\n",
    "import matplotlib.pyplot as plt\n",
    "import seaborn as sns\n",
    "import scipy"
   ]
  },
  {
   "cell_type": "code",
   "execution_count": 2,
   "id": "d79427f2",
   "metadata": {},
   "outputs": [],
   "source": [
    "# Importing data"
   ]
  },
  {
   "cell_type": "code",
   "execution_count": 3,
   "id": "b55e4314",
   "metadata": {},
   "outputs": [],
   "source": [
    "path = r\"C:\\Users\\grace\\CareerFoundry\\CF.mod4 - Python Fundamentals for Data Analysts\""
   ]
  },
  {
   "cell_type": "code",
   "execution_count": 4,
   "id": "4fad7811",
   "metadata": {},
   "outputs": [],
   "source": [
    "master_df = pd.read_pickle(os.path.join(path, '02 Data', 'Cleaned Data', 'master_dataset.pkl'))"
   ]
  },
  {
   "cell_type": "code",
   "execution_count": 26,
   "id": "6098b945",
   "metadata": {},
   "outputs": [
    {
     "data": {
      "text/html": [
       "<div>\n",
       "<style scoped>\n",
       "    .dataframe tbody tr th:only-of-type {\n",
       "        vertical-align: middle;\n",
       "    }\n",
       "\n",
       "    .dataframe tbody tr th {\n",
       "        vertical-align: top;\n",
       "    }\n",
       "\n",
       "    .dataframe thead th {\n",
       "        text-align: right;\n",
       "    }\n",
       "</style>\n",
       "<table border=\"1\" class=\"dataframe\">\n",
       "  <thead>\n",
       "    <tr style=\"text-align: right;\">\n",
       "      <th></th>\n",
       "      <th>user_id</th>\n",
       "      <th>first_name</th>\n",
       "      <th>last_name</th>\n",
       "      <th>gender</th>\n",
       "      <th>state</th>\n",
       "      <th>age</th>\n",
       "      <th>date_joined</th>\n",
       "      <th>n_dependants</th>\n",
       "      <th>marital_status</th>\n",
       "      <th>income</th>\n",
       "      <th>...</th>\n",
       "      <th>prices</th>\n",
       "      <th>price_range_loc</th>\n",
       "      <th>busiest_days</th>\n",
       "      <th>busiest_period_of_day</th>\n",
       "      <th>max_order</th>\n",
       "      <th>loyalty_flag</th>\n",
       "      <th>spending</th>\n",
       "      <th>spending_flag</th>\n",
       "      <th>order_frequency</th>\n",
       "      <th>order_frequency_flag</th>\n",
       "    </tr>\n",
       "  </thead>\n",
       "  <tbody>\n",
       "    <tr>\n",
       "      <th>0</th>\n",
       "      <td>26711</td>\n",
       "      <td>Deborah</td>\n",
       "      <td>Esquivel</td>\n",
       "      <td>Female</td>\n",
       "      <td>Missouri</td>\n",
       "      <td>48</td>\n",
       "      <td>1/1/2017</td>\n",
       "      <td>3</td>\n",
       "      <td>married</td>\n",
       "      <td>165665</td>\n",
       "      <td>...</td>\n",
       "      <td>9.0</td>\n",
       "      <td>Mid-range product</td>\n",
       "      <td>Busy Day</td>\n",
       "      <td>Average orders</td>\n",
       "      <td>8</td>\n",
       "      <td>New customer</td>\n",
       "      <td>7.988889</td>\n",
       "      <td>Low spender</td>\n",
       "      <td>30.0</td>\n",
       "      <td>Non-frequent customer</td>\n",
       "    </tr>\n",
       "    <tr>\n",
       "      <th>1</th>\n",
       "      <td>26711</td>\n",
       "      <td>Deborah</td>\n",
       "      <td>Esquivel</td>\n",
       "      <td>Female</td>\n",
       "      <td>Missouri</td>\n",
       "      <td>48</td>\n",
       "      <td>1/1/2017</td>\n",
       "      <td>3</td>\n",
       "      <td>married</td>\n",
       "      <td>165665</td>\n",
       "      <td>...</td>\n",
       "      <td>9.0</td>\n",
       "      <td>Mid-range product</td>\n",
       "      <td>Regular Day</td>\n",
       "      <td>Most orders</td>\n",
       "      <td>8</td>\n",
       "      <td>New customer</td>\n",
       "      <td>7.988889</td>\n",
       "      <td>Low spender</td>\n",
       "      <td>30.0</td>\n",
       "      <td>Non-frequent customer</td>\n",
       "    </tr>\n",
       "    <tr>\n",
       "      <th>2</th>\n",
       "      <td>26711</td>\n",
       "      <td>Deborah</td>\n",
       "      <td>Esquivel</td>\n",
       "      <td>Female</td>\n",
       "      <td>Missouri</td>\n",
       "      <td>48</td>\n",
       "      <td>1/1/2017</td>\n",
       "      <td>3</td>\n",
       "      <td>married</td>\n",
       "      <td>165665</td>\n",
       "      <td>...</td>\n",
       "      <td>9.0</td>\n",
       "      <td>Mid-range product</td>\n",
       "      <td>Busy Day</td>\n",
       "      <td>Most orders</td>\n",
       "      <td>8</td>\n",
       "      <td>New customer</td>\n",
       "      <td>7.988889</td>\n",
       "      <td>Low spender</td>\n",
       "      <td>30.0</td>\n",
       "      <td>Non-frequent customer</td>\n",
       "    </tr>\n",
       "    <tr>\n",
       "      <th>3</th>\n",
       "      <td>26711</td>\n",
       "      <td>Deborah</td>\n",
       "      <td>Esquivel</td>\n",
       "      <td>Female</td>\n",
       "      <td>Missouri</td>\n",
       "      <td>48</td>\n",
       "      <td>1/1/2017</td>\n",
       "      <td>3</td>\n",
       "      <td>married</td>\n",
       "      <td>165665</td>\n",
       "      <td>...</td>\n",
       "      <td>12.6</td>\n",
       "      <td>Mid-range product</td>\n",
       "      <td>Regular Day</td>\n",
       "      <td>Average orders</td>\n",
       "      <td>8</td>\n",
       "      <td>New customer</td>\n",
       "      <td>7.988889</td>\n",
       "      <td>Low spender</td>\n",
       "      <td>30.0</td>\n",
       "      <td>Non-frequent customer</td>\n",
       "    </tr>\n",
       "    <tr>\n",
       "      <th>4</th>\n",
       "      <td>26711</td>\n",
       "      <td>Deborah</td>\n",
       "      <td>Esquivel</td>\n",
       "      <td>Female</td>\n",
       "      <td>Missouri</td>\n",
       "      <td>48</td>\n",
       "      <td>1/1/2017</td>\n",
       "      <td>3</td>\n",
       "      <td>married</td>\n",
       "      <td>165665</td>\n",
       "      <td>...</td>\n",
       "      <td>12.6</td>\n",
       "      <td>Mid-range product</td>\n",
       "      <td>Slow Day</td>\n",
       "      <td>Most orders</td>\n",
       "      <td>8</td>\n",
       "      <td>New customer</td>\n",
       "      <td>7.988889</td>\n",
       "      <td>Low spender</td>\n",
       "      <td>30.0</td>\n",
       "      <td>Non-frequent customer</td>\n",
       "    </tr>\n",
       "    <tr>\n",
       "      <th>5</th>\n",
       "      <td>26711</td>\n",
       "      <td>Deborah</td>\n",
       "      <td>Esquivel</td>\n",
       "      <td>Female</td>\n",
       "      <td>Missouri</td>\n",
       "      <td>48</td>\n",
       "      <td>1/1/2017</td>\n",
       "      <td>3</td>\n",
       "      <td>married</td>\n",
       "      <td>165665</td>\n",
       "      <td>...</td>\n",
       "      <td>12.6</td>\n",
       "      <td>Mid-range product</td>\n",
       "      <td>Busy Day</td>\n",
       "      <td>Average orders</td>\n",
       "      <td>8</td>\n",
       "      <td>New customer</td>\n",
       "      <td>7.988889</td>\n",
       "      <td>Low spender</td>\n",
       "      <td>30.0</td>\n",
       "      <td>Non-frequent customer</td>\n",
       "    </tr>\n",
       "    <tr>\n",
       "      <th>6</th>\n",
       "      <td>26711</td>\n",
       "      <td>Deborah</td>\n",
       "      <td>Esquivel</td>\n",
       "      <td>Female</td>\n",
       "      <td>Missouri</td>\n",
       "      <td>48</td>\n",
       "      <td>1/1/2017</td>\n",
       "      <td>3</td>\n",
       "      <td>married</td>\n",
       "      <td>165665</td>\n",
       "      <td>...</td>\n",
       "      <td>12.6</td>\n",
       "      <td>Mid-range product</td>\n",
       "      <td>Busy Day</td>\n",
       "      <td>Average orders</td>\n",
       "      <td>8</td>\n",
       "      <td>New customer</td>\n",
       "      <td>7.988889</td>\n",
       "      <td>Low spender</td>\n",
       "      <td>30.0</td>\n",
       "      <td>Non-frequent customer</td>\n",
       "    </tr>\n",
       "    <tr>\n",
       "      <th>7</th>\n",
       "      <td>26711</td>\n",
       "      <td>Deborah</td>\n",
       "      <td>Esquivel</td>\n",
       "      <td>Female</td>\n",
       "      <td>Missouri</td>\n",
       "      <td>48</td>\n",
       "      <td>1/1/2017</td>\n",
       "      <td>3</td>\n",
       "      <td>married</td>\n",
       "      <td>165665</td>\n",
       "      <td>...</td>\n",
       "      <td>12.6</td>\n",
       "      <td>Mid-range product</td>\n",
       "      <td>Regular Day</td>\n",
       "      <td>Most orders</td>\n",
       "      <td>8</td>\n",
       "      <td>New customer</td>\n",
       "      <td>7.988889</td>\n",
       "      <td>Low spender</td>\n",
       "      <td>30.0</td>\n",
       "      <td>Non-frequent customer</td>\n",
       "    </tr>\n",
       "    <tr>\n",
       "      <th>8</th>\n",
       "      <td>26711</td>\n",
       "      <td>Deborah</td>\n",
       "      <td>Esquivel</td>\n",
       "      <td>Female</td>\n",
       "      <td>Missouri</td>\n",
       "      <td>48</td>\n",
       "      <td>1/1/2017</td>\n",
       "      <td>3</td>\n",
       "      <td>married</td>\n",
       "      <td>165665</td>\n",
       "      <td>...</td>\n",
       "      <td>12.6</td>\n",
       "      <td>Mid-range product</td>\n",
       "      <td>Busy Day</td>\n",
       "      <td>Most orders</td>\n",
       "      <td>8</td>\n",
       "      <td>New customer</td>\n",
       "      <td>7.988889</td>\n",
       "      <td>Low spender</td>\n",
       "      <td>30.0</td>\n",
       "      <td>Non-frequent customer</td>\n",
       "    </tr>\n",
       "    <tr>\n",
       "      <th>9</th>\n",
       "      <td>26711</td>\n",
       "      <td>Deborah</td>\n",
       "      <td>Esquivel</td>\n",
       "      <td>Female</td>\n",
       "      <td>Missouri</td>\n",
       "      <td>48</td>\n",
       "      <td>1/1/2017</td>\n",
       "      <td>3</td>\n",
       "      <td>married</td>\n",
       "      <td>165665</td>\n",
       "      <td>...</td>\n",
       "      <td>4.3</td>\n",
       "      <td>Low_range_product</td>\n",
       "      <td>Regular Day</td>\n",
       "      <td>Average orders</td>\n",
       "      <td>8</td>\n",
       "      <td>New customer</td>\n",
       "      <td>7.988889</td>\n",
       "      <td>Low spender</td>\n",
       "      <td>30.0</td>\n",
       "      <td>Non-frequent customer</td>\n",
       "    </tr>\n",
       "    <tr>\n",
       "      <th>10</th>\n",
       "      <td>26711</td>\n",
       "      <td>Deborah</td>\n",
       "      <td>Esquivel</td>\n",
       "      <td>Female</td>\n",
       "      <td>Missouri</td>\n",
       "      <td>48</td>\n",
       "      <td>1/1/2017</td>\n",
       "      <td>3</td>\n",
       "      <td>married</td>\n",
       "      <td>165665</td>\n",
       "      <td>...</td>\n",
       "      <td>4.3</td>\n",
       "      <td>Low_range_product</td>\n",
       "      <td>Slow Day</td>\n",
       "      <td>Most orders</td>\n",
       "      <td>8</td>\n",
       "      <td>New customer</td>\n",
       "      <td>7.988889</td>\n",
       "      <td>Low spender</td>\n",
       "      <td>30.0</td>\n",
       "      <td>Non-frequent customer</td>\n",
       "    </tr>\n",
       "    <tr>\n",
       "      <th>11</th>\n",
       "      <td>26711</td>\n",
       "      <td>Deborah</td>\n",
       "      <td>Esquivel</td>\n",
       "      <td>Female</td>\n",
       "      <td>Missouri</td>\n",
       "      <td>48</td>\n",
       "      <td>1/1/2017</td>\n",
       "      <td>3</td>\n",
       "      <td>married</td>\n",
       "      <td>165665</td>\n",
       "      <td>...</td>\n",
       "      <td>4.3</td>\n",
       "      <td>Low_range_product</td>\n",
       "      <td>Busy Day</td>\n",
       "      <td>Average orders</td>\n",
       "      <td>8</td>\n",
       "      <td>New customer</td>\n",
       "      <td>7.988889</td>\n",
       "      <td>Low spender</td>\n",
       "      <td>30.0</td>\n",
       "      <td>Non-frequent customer</td>\n",
       "    </tr>\n",
       "    <tr>\n",
       "      <th>12</th>\n",
       "      <td>26711</td>\n",
       "      <td>Deborah</td>\n",
       "      <td>Esquivel</td>\n",
       "      <td>Female</td>\n",
       "      <td>Missouri</td>\n",
       "      <td>48</td>\n",
       "      <td>1/1/2017</td>\n",
       "      <td>3</td>\n",
       "      <td>married</td>\n",
       "      <td>165665</td>\n",
       "      <td>...</td>\n",
       "      <td>4.3</td>\n",
       "      <td>Low_range_product</td>\n",
       "      <td>Busy Day</td>\n",
       "      <td>Average orders</td>\n",
       "      <td>8</td>\n",
       "      <td>New customer</td>\n",
       "      <td>7.988889</td>\n",
       "      <td>Low spender</td>\n",
       "      <td>30.0</td>\n",
       "      <td>Non-frequent customer</td>\n",
       "    </tr>\n",
       "    <tr>\n",
       "      <th>13</th>\n",
       "      <td>26711</td>\n",
       "      <td>Deborah</td>\n",
       "      <td>Esquivel</td>\n",
       "      <td>Female</td>\n",
       "      <td>Missouri</td>\n",
       "      <td>48</td>\n",
       "      <td>1/1/2017</td>\n",
       "      <td>3</td>\n",
       "      <td>married</td>\n",
       "      <td>165665</td>\n",
       "      <td>...</td>\n",
       "      <td>4.3</td>\n",
       "      <td>Low_range_product</td>\n",
       "      <td>Busy Day</td>\n",
       "      <td>Average orders</td>\n",
       "      <td>8</td>\n",
       "      <td>New customer</td>\n",
       "      <td>7.988889</td>\n",
       "      <td>Low spender</td>\n",
       "      <td>30.0</td>\n",
       "      <td>Non-frequent customer</td>\n",
       "    </tr>\n",
       "    <tr>\n",
       "      <th>14</th>\n",
       "      <td>26711</td>\n",
       "      <td>Deborah</td>\n",
       "      <td>Esquivel</td>\n",
       "      <td>Female</td>\n",
       "      <td>Missouri</td>\n",
       "      <td>48</td>\n",
       "      <td>1/1/2017</td>\n",
       "      <td>3</td>\n",
       "      <td>married</td>\n",
       "      <td>165665</td>\n",
       "      <td>...</td>\n",
       "      <td>4.3</td>\n",
       "      <td>Low_range_product</td>\n",
       "      <td>Regular Day</td>\n",
       "      <td>Most orders</td>\n",
       "      <td>8</td>\n",
       "      <td>New customer</td>\n",
       "      <td>7.988889</td>\n",
       "      <td>Low spender</td>\n",
       "      <td>30.0</td>\n",
       "      <td>Non-frequent customer</td>\n",
       "    </tr>\n",
       "    <tr>\n",
       "      <th>15</th>\n",
       "      <td>26711</td>\n",
       "      <td>Deborah</td>\n",
       "      <td>Esquivel</td>\n",
       "      <td>Female</td>\n",
       "      <td>Missouri</td>\n",
       "      <td>48</td>\n",
       "      <td>1/1/2017</td>\n",
       "      <td>3</td>\n",
       "      <td>married</td>\n",
       "      <td>165665</td>\n",
       "      <td>...</td>\n",
       "      <td>4.3</td>\n",
       "      <td>Low_range_product</td>\n",
       "      <td>Busy Day</td>\n",
       "      <td>Most orders</td>\n",
       "      <td>8</td>\n",
       "      <td>New customer</td>\n",
       "      <td>7.988889</td>\n",
       "      <td>Low spender</td>\n",
       "      <td>30.0</td>\n",
       "      <td>Non-frequent customer</td>\n",
       "    </tr>\n",
       "    <tr>\n",
       "      <th>16</th>\n",
       "      <td>26711</td>\n",
       "      <td>Deborah</td>\n",
       "      <td>Esquivel</td>\n",
       "      <td>Female</td>\n",
       "      <td>Missouri</td>\n",
       "      <td>48</td>\n",
       "      <td>1/1/2017</td>\n",
       "      <td>3</td>\n",
       "      <td>married</td>\n",
       "      <td>165665</td>\n",
       "      <td>...</td>\n",
       "      <td>7.1</td>\n",
       "      <td>NaN</td>\n",
       "      <td>Slow Day</td>\n",
       "      <td>Most orders</td>\n",
       "      <td>8</td>\n",
       "      <td>New customer</td>\n",
       "      <td>7.988889</td>\n",
       "      <td>Low spender</td>\n",
       "      <td>30.0</td>\n",
       "      <td>Non-frequent customer</td>\n",
       "    </tr>\n",
       "    <tr>\n",
       "      <th>17</th>\n",
       "      <td>26711</td>\n",
       "      <td>Deborah</td>\n",
       "      <td>Esquivel</td>\n",
       "      <td>Female</td>\n",
       "      <td>Missouri</td>\n",
       "      <td>48</td>\n",
       "      <td>1/1/2017</td>\n",
       "      <td>3</td>\n",
       "      <td>married</td>\n",
       "      <td>165665</td>\n",
       "      <td>...</td>\n",
       "      <td>4.0</td>\n",
       "      <td>Low_range_product</td>\n",
       "      <td>Busy Day</td>\n",
       "      <td>Average orders</td>\n",
       "      <td>8</td>\n",
       "      <td>New customer</td>\n",
       "      <td>7.988889</td>\n",
       "      <td>Low spender</td>\n",
       "      <td>30.0</td>\n",
       "      <td>Non-frequent customer</td>\n",
       "    </tr>\n",
       "    <tr>\n",
       "      <th>18</th>\n",
       "      <td>33890</td>\n",
       "      <td>Patricia</td>\n",
       "      <td>Hart</td>\n",
       "      <td>Female</td>\n",
       "      <td>New Mexico</td>\n",
       "      <td>36</td>\n",
       "      <td>1/1/2017</td>\n",
       "      <td>0</td>\n",
       "      <td>single</td>\n",
       "      <td>59285</td>\n",
       "      <td>...</td>\n",
       "      <td>9.0</td>\n",
       "      <td>Mid-range product</td>\n",
       "      <td>Regular Day</td>\n",
       "      <td>Most orders</td>\n",
       "      <td>12</td>\n",
       "      <td>Regular customer</td>\n",
       "      <td>7.057534</td>\n",
       "      <td>Low spender</td>\n",
       "      <td>30.0</td>\n",
       "      <td>Non-frequent customer</td>\n",
       "    </tr>\n",
       "    <tr>\n",
       "      <th>19</th>\n",
       "      <td>33890</td>\n",
       "      <td>Patricia</td>\n",
       "      <td>Hart</td>\n",
       "      <td>Female</td>\n",
       "      <td>New Mexico</td>\n",
       "      <td>36</td>\n",
       "      <td>1/1/2017</td>\n",
       "      <td>0</td>\n",
       "      <td>single</td>\n",
       "      <td>59285</td>\n",
       "      <td>...</td>\n",
       "      <td>9.0</td>\n",
       "      <td>Mid-range product</td>\n",
       "      <td>Busy Day</td>\n",
       "      <td>Average orders</td>\n",
       "      <td>12</td>\n",
       "      <td>Regular customer</td>\n",
       "      <td>7.057534</td>\n",
       "      <td>Low spender</td>\n",
       "      <td>30.0</td>\n",
       "      <td>Non-frequent customer</td>\n",
       "    </tr>\n",
       "  </tbody>\n",
       "</table>\n",
       "<p>20 rows × 34 columns</p>\n",
       "</div>"
      ],
      "text/plain": [
       "   user_id first_name last_name  gender       state age date_joined  \\\n",
       "0    26711    Deborah  Esquivel  Female    Missouri  48    1/1/2017   \n",
       "1    26711    Deborah  Esquivel  Female    Missouri  48    1/1/2017   \n",
       "2    26711    Deborah  Esquivel  Female    Missouri  48    1/1/2017   \n",
       "3    26711    Deborah  Esquivel  Female    Missouri  48    1/1/2017   \n",
       "4    26711    Deborah  Esquivel  Female    Missouri  48    1/1/2017   \n",
       "5    26711    Deborah  Esquivel  Female    Missouri  48    1/1/2017   \n",
       "6    26711    Deborah  Esquivel  Female    Missouri  48    1/1/2017   \n",
       "7    26711    Deborah  Esquivel  Female    Missouri  48    1/1/2017   \n",
       "8    26711    Deborah  Esquivel  Female    Missouri  48    1/1/2017   \n",
       "9    26711    Deborah  Esquivel  Female    Missouri  48    1/1/2017   \n",
       "10   26711    Deborah  Esquivel  Female    Missouri  48    1/1/2017   \n",
       "11   26711    Deborah  Esquivel  Female    Missouri  48    1/1/2017   \n",
       "12   26711    Deborah  Esquivel  Female    Missouri  48    1/1/2017   \n",
       "13   26711    Deborah  Esquivel  Female    Missouri  48    1/1/2017   \n",
       "14   26711    Deborah  Esquivel  Female    Missouri  48    1/1/2017   \n",
       "15   26711    Deborah  Esquivel  Female    Missouri  48    1/1/2017   \n",
       "16   26711    Deborah  Esquivel  Female    Missouri  48    1/1/2017   \n",
       "17   26711    Deborah  Esquivel  Female    Missouri  48    1/1/2017   \n",
       "18   33890   Patricia      Hart  Female  New Mexico  36    1/1/2017   \n",
       "19   33890   Patricia      Hart  Female  New Mexico  36    1/1/2017   \n",
       "\n",
       "   n_dependants marital_status  income  ...  prices    price_range_loc  \\\n",
       "0             3        married  165665  ...     9.0  Mid-range product   \n",
       "1             3        married  165665  ...     9.0  Mid-range product   \n",
       "2             3        married  165665  ...     9.0  Mid-range product   \n",
       "3             3        married  165665  ...    12.6  Mid-range product   \n",
       "4             3        married  165665  ...    12.6  Mid-range product   \n",
       "5             3        married  165665  ...    12.6  Mid-range product   \n",
       "6             3        married  165665  ...    12.6  Mid-range product   \n",
       "7             3        married  165665  ...    12.6  Mid-range product   \n",
       "8             3        married  165665  ...    12.6  Mid-range product   \n",
       "9             3        married  165665  ...     4.3  Low_range_product   \n",
       "10            3        married  165665  ...     4.3  Low_range_product   \n",
       "11            3        married  165665  ...     4.3  Low_range_product   \n",
       "12            3        married  165665  ...     4.3  Low_range_product   \n",
       "13            3        married  165665  ...     4.3  Low_range_product   \n",
       "14            3        married  165665  ...     4.3  Low_range_product   \n",
       "15            3        married  165665  ...     4.3  Low_range_product   \n",
       "16            3        married  165665  ...     7.1                NaN   \n",
       "17            3        married  165665  ...     4.0  Low_range_product   \n",
       "18            0         single   59285  ...     9.0  Mid-range product   \n",
       "19            0         single   59285  ...     9.0  Mid-range product   \n",
       "\n",
       "    busiest_days  busiest_period_of_day  max_order      loyalty_flag  \\\n",
       "0       Busy Day         Average orders          8      New customer   \n",
       "1    Regular Day            Most orders          8      New customer   \n",
       "2       Busy Day            Most orders          8      New customer   \n",
       "3    Regular Day         Average orders          8      New customer   \n",
       "4       Slow Day            Most orders          8      New customer   \n",
       "5       Busy Day         Average orders          8      New customer   \n",
       "6       Busy Day         Average orders          8      New customer   \n",
       "7    Regular Day            Most orders          8      New customer   \n",
       "8       Busy Day            Most orders          8      New customer   \n",
       "9    Regular Day         Average orders          8      New customer   \n",
       "10      Slow Day            Most orders          8      New customer   \n",
       "11      Busy Day         Average orders          8      New customer   \n",
       "12      Busy Day         Average orders          8      New customer   \n",
       "13      Busy Day         Average orders          8      New customer   \n",
       "14   Regular Day            Most orders          8      New customer   \n",
       "15      Busy Day            Most orders          8      New customer   \n",
       "16      Slow Day            Most orders          8      New customer   \n",
       "17      Busy Day         Average orders          8      New customer   \n",
       "18   Regular Day            Most orders         12  Regular customer   \n",
       "19      Busy Day         Average orders         12  Regular customer   \n",
       "\n",
       "    spending  spending_flag  order_frequency   order_frequency_flag  \n",
       "0   7.988889    Low spender             30.0  Non-frequent customer  \n",
       "1   7.988889    Low spender             30.0  Non-frequent customer  \n",
       "2   7.988889    Low spender             30.0  Non-frequent customer  \n",
       "3   7.988889    Low spender             30.0  Non-frequent customer  \n",
       "4   7.988889    Low spender             30.0  Non-frequent customer  \n",
       "5   7.988889    Low spender             30.0  Non-frequent customer  \n",
       "6   7.988889    Low spender             30.0  Non-frequent customer  \n",
       "7   7.988889    Low spender             30.0  Non-frequent customer  \n",
       "8   7.988889    Low spender             30.0  Non-frequent customer  \n",
       "9   7.988889    Low spender             30.0  Non-frequent customer  \n",
       "10  7.988889    Low spender             30.0  Non-frequent customer  \n",
       "11  7.988889    Low spender             30.0  Non-frequent customer  \n",
       "12  7.988889    Low spender             30.0  Non-frequent customer  \n",
       "13  7.988889    Low spender             30.0  Non-frequent customer  \n",
       "14  7.988889    Low spender             30.0  Non-frequent customer  \n",
       "15  7.988889    Low spender             30.0  Non-frequent customer  \n",
       "16  7.988889    Low spender             30.0  Non-frequent customer  \n",
       "17  7.988889    Low spender             30.0  Non-frequent customer  \n",
       "18  7.057534    Low spender             30.0  Non-frequent customer  \n",
       "19  7.057534    Low spender             30.0  Non-frequent customer  \n",
       "\n",
       "[20 rows x 34 columns]"
      ]
     },
     "execution_count": 26,
     "metadata": {},
     "output_type": "execute_result"
    }
   ],
   "source": [
    "master_df.head(20)"
   ]
  },
  {
   "cell_type": "code",
   "execution_count": 6,
   "id": "6056d225",
   "metadata": {},
   "outputs": [
    {
     "data": {
      "image/png": "[encoded data removed]",
      "text/plain": [
       "<Figure size 432x288 with 1 Axes>"
      ]
     },
     "metadata": {
      "needs_background": "light"
     },
     "output_type": "display_data"
    }
   ],
   "source": [
    "# Creating a bar chart\n",
    "day_of_week_bar = master_df['orders_day_of_week'].value_counts().plot.bar()"
   ]
  },
  {
   "cell_type": "code",
   "execution_count": null,
   "id": "0680d126",
   "metadata": {},
   "outputs": [],
   "source": [
    "# Creating a histogram"
   ]
  },
  {
   "cell_type": "code",
   "execution_count": 7,
   "id": "93d6984a",
   "metadata": {},
   "outputs": [],
   "source": [
    "#Remedial cleaning\n",
    "master_df.loc[master_df['prices'] > 100, 'prices'] = np.nan"
   ]
  },
  {
   "cell_type": "code",
   "execution_count": 8,
   "id": "25b1846d",
   "metadata": {},
   "outputs": [
    {
     "data": {
      "text/plain": [
       "25.0"
      ]
     },
     "execution_count": 8,
     "metadata": {},
     "output_type": "execute_result"
    }
   ],
   "source": [
    "master_df['prices'].max()"
   ]
  },
  {
   "cell_type": "code",
   "execution_count": 9,
   "id": "ca8e3011",
   "metadata": {},
   "outputs": [
    {
     "data": {
      "image/png": "[encoded data removed]",
      "text/plain": [
       "<Figure size 432x288 with 1 Axes>"
      ]
     },
     "metadata": {
      "needs_background": "light"
     },
     "output_type": "display_data"
    }
   ],
   "source": [
    "price_hist = master_df['prices'].plot.hist(bins = 75)"
   ]
  },
  {
   "cell_type": "code",
   "execution_count": 10,
   "id": "952ab6e7",
   "metadata": {},
   "outputs": [
    {
     "data": {
      "image/png": "[encoded data removed]",
      "text/plain": [
       "<Figure size 432x288 with 1 Axes>"
      ]
     },
     "metadata": {
      "needs_background": "light"
     },
     "output_type": "display_data"
    }
   ],
   "source": [
    "# Creating a scatterplot\n",
    "prices_scatter = sns.scatterplot(x = 'prices', y = 'prices',data = master_df)"
   ]
  },
  {
   "cell_type": "code",
   "execution_count": 11,
   "id": "89c988dc",
   "metadata": {},
   "outputs": [],
   "source": [
    "# Creating a sample\n",
    "np.random.seed(4)\n",
    "dev = np.random.rand(len(master_df)) <= 0.7"
   ]
  },
  {
   "cell_type": "code",
   "execution_count": 12,
   "id": "0a4374e8",
   "metadata": {},
   "outputs": [
    {
     "data": {
      "text/plain": [
       "array([False,  True, False, ...,  True,  True,  True])"
      ]
     },
     "execution_count": 12,
     "metadata": {},
     "output_type": "execute_result"
    }
   ],
   "source": [
    "# Checking dev\n",
    "dev"
   ]
  },
  {
   "cell_type": "code",
   "execution_count": 13,
   "id": "c1a2d4e9",
   "metadata": {},
   "outputs": [],
   "source": [
    "# Store 70% of the sample to the 'big' dataframe\n",
    "big = master_df[dev]"
   ]
  },
  {
   "cell_type": "code",
   "execution_count": 14,
   "id": "e2ad7121",
   "metadata": {},
   "outputs": [],
   "source": [
    "small = master_df[~dev]"
   ]
  },
  {
   "cell_type": "code",
   "execution_count": null,
   "id": "db9bfc1f",
   "metadata": {},
   "outputs": [],
   "source": [
    "# Checking sample sizes"
   ]
  },
  {
   "cell_type": "code",
   "execution_count": 15,
   "id": "e4f558b4",
   "metadata": {},
   "outputs": [
    {
     "data": {
      "text/plain": [
       "32406041"
      ]
     },
     "execution_count": 15,
     "metadata": {},
     "output_type": "execute_result"
    }
   ],
   "source": [
    "len(master_df)"
   ]
  },
  {
   "cell_type": "code",
   "execution_count": 16,
   "id": "217f3150",
   "metadata": {},
   "outputs": [
    {
     "data": {
      "text/plain": [
       "32406041"
      ]
     },
     "execution_count": 16,
     "metadata": {},
     "output_type": "execute_result"
    }
   ],
   "source": [
    "len(big) + len(small)"
   ]
  },
  {
   "cell_type": "code",
   "execution_count": 17,
   "id": "ac81b19a",
   "metadata": {},
   "outputs": [],
   "source": [
    "#Refining df\n",
    "master_df_2 = small[['orders_day_of_week', 'prices']]"
   ]
  },
  {
   "cell_type": "code",
   "execution_count": 18,
   "id": "f790fd92",
   "metadata": {},
   "outputs": [
    {
     "data": {
      "text/html": [
       "<div>\n",
       "<style scoped>\n",
       "    .dataframe tbody tr th:only-of-type {\n",
       "        vertical-align: middle;\n",
       "    }\n",
       "\n",
       "    .dataframe tbody tr th {\n",
       "        vertical-align: top;\n",
       "    }\n",
       "\n",
       "    .dataframe thead th {\n",
       "        text-align: right;\n",
       "    }\n",
       "</style>\n",
       "<table border=\"1\" class=\"dataframe\">\n",
       "  <thead>\n",
       "    <tr style=\"text-align: right;\">\n",
       "      <th></th>\n",
       "      <th>orders_day_of_week</th>\n",
       "      <th>prices</th>\n",
       "    </tr>\n",
       "  </thead>\n",
       "  <tbody>\n",
       "    <tr>\n",
       "      <th>0</th>\n",
       "      <td>1</td>\n",
       "      <td>9.0</td>\n",
       "    </tr>\n",
       "    <tr>\n",
       "      <th>2</th>\n",
       "      <td>1</td>\n",
       "      <td>9.0</td>\n",
       "    </tr>\n",
       "    <tr>\n",
       "      <th>3</th>\n",
       "      <td>2</td>\n",
       "      <td>12.6</td>\n",
       "    </tr>\n",
       "    <tr>\n",
       "      <th>6</th>\n",
       "      <td>1</td>\n",
       "      <td>12.6</td>\n",
       "    </tr>\n",
       "    <tr>\n",
       "      <th>10</th>\n",
       "      <td>3</td>\n",
       "      <td>4.3</td>\n",
       "    </tr>\n",
       "    <tr>\n",
       "      <th>...</th>\n",
       "      <td>...</td>\n",
       "      <td>...</td>\n",
       "    </tr>\n",
       "    <tr>\n",
       "      <th>32406021</th>\n",
       "      <td>0</td>\n",
       "      <td>7.2</td>\n",
       "    </tr>\n",
       "    <tr>\n",
       "      <th>32406027</th>\n",
       "      <td>6</td>\n",
       "      <td>5.8</td>\n",
       "    </tr>\n",
       "    <tr>\n",
       "      <th>32406032</th>\n",
       "      <td>1</td>\n",
       "      <td>1.2</td>\n",
       "    </tr>\n",
       "    <tr>\n",
       "      <th>32406033</th>\n",
       "      <td>6</td>\n",
       "      <td>3.0</td>\n",
       "    </tr>\n",
       "    <tr>\n",
       "      <th>32406037</th>\n",
       "      <td>6</td>\n",
       "      <td>4.0</td>\n",
       "    </tr>\n",
       "  </tbody>\n",
       "</table>\n",
       "<p>9721457 rows × 2 columns</p>\n",
       "</div>"
      ],
      "text/plain": [
       "          orders_day_of_week  prices\n",
       "0                          1     9.0\n",
       "2                          1     9.0\n",
       "3                          2    12.6\n",
       "6                          1    12.6\n",
       "10                         3     4.3\n",
       "...                      ...     ...\n",
       "32406021                   0     7.2\n",
       "32406027                   6     5.8\n",
       "32406032                   1     1.2\n",
       "32406033                   6     3.0\n",
       "32406037                   6     4.0\n",
       "\n",
       "[9721457 rows x 2 columns]"
      ]
     },
     "execution_count": 18,
     "metadata": {},
     "output_type": "execute_result"
    }
   ],
   "source": [
    "#Checking df\n",
    "master_df_2"
   ]
  },
  {
   "cell_type": "code",
   "execution_count": 19,
   "id": "eb00c38b",
   "metadata": {},
   "outputs": [
    {
     "data": {
      "image/png": "[encoded data removed]",
      "text/plain": [
       "<Figure size 432x288 with 1 Axes>"
      ]
     },
     "metadata": {
      "needs_background": "light"
     },
     "output_type": "display_data"
    }
   ],
   "source": [
    "# Creating line chart\n",
    "weekday_prices_line = sns.lineplot(data = master_df_2, x = 'orders_day_of_week', y = 'prices')"
   ]
  },
  {
   "cell_type": "markdown",
   "id": "c032b66d",
   "metadata": {},
   "source": [
    "    # Task 3 - Create a histogram of the 'order_hour_of_day' column and describe"
   ]
  },
  {
   "cell_type": "code",
   "execution_count": 20,
   "id": "8a987d69",
   "metadata": {},
   "outputs": [
    {
     "data": {
      "image/png": "[encoded data removed]",
      "text/plain": [
       "<Figure size 432x288 with 1 Axes>"
      ]
     },
     "metadata": {
      "needs_background": "light"
     },
     "output_type": "display_data"
    }
   ],
   "source": [
    "hour_of_day_hist = master_df['order_hour_of_day'].plot.hist(bins = 75)"
   ]
  },
  {
   "cell_type": "code",
   "execution_count": null,
   "id": "d2ee38e7",
   "metadata": {},
   "outputs": [],
   "source": [
    "# Describe histogram\n",
    "This histogram puts the hour of the day on the x axis and the frequency of orders on the y axis. \n",
    "You can see that there is quite a difference between the min and max order frequency. \n",
    "The highest order frequency is between 10am and 4pm. The quietest time is between midnight and 5am"
   ]
  },
  {
   "cell_type": "markdown",
   "id": "4af95c83",
   "metadata": {},
   "source": [
    "    # Task 4 - Create a bar chart for the 'loyalty flag' column"
   ]
  },
  {
   "cell_type": "code",
   "execution_count": 21,
   "id": "77f78499",
   "metadata": {},
   "outputs": [
    {
     "data": {
      "image/png": "[encoded data removed]",
      "text/plain": [
       "<Figure size 432x288 with 1 Axes>"
      ]
     },
     "metadata": {
      "needs_background": "light"
     },
     "output_type": "display_data"
    }
   ],
   "source": [
    "loyalty_bar = master_df['loyalty_flag'].value_counts().plot.bar()"
   ]
  },
  {
   "cell_type": "markdown",
   "id": "aa0d7035",
   "metadata": {},
   "source": [
    "    # Task 5 Investigate expenditure difference in 'prices' column depending on hour of day (use accurate sample)"
   ]
  },
  {
   "cell_type": "code",
   "execution_count": 22,
   "id": "a60d9e76",
   "metadata": {},
   "outputs": [],
   "source": [
    "# Creating df using small sample for viz. (small used to save processing power)\n",
    "master_df_3 = small[['order_hour_of_day', 'prices']]"
   ]
  },
  {
   "cell_type": "code",
   "execution_count": 23,
   "id": "18a9aa5e",
   "metadata": {},
   "outputs": [
    {
     "data": {
      "image/png": "[encoded data removed]",
      "text/plain": [
       "<Figure size 432x288 with 1 Axes>"
      ]
     },
     "metadata": {
      "needs_background": "light"
     },
     "output_type": "display_data"
    }
   ],
   "source": [
    "hour_prices_line = sns.lineplot(data = master_df_3, x = 'order_hour_of_day', y = 'prices')"
   ]
  },
  {
   "cell_type": "markdown",
   "id": "baf3f1c2",
   "metadata": {},
   "source": [
    "    # Task 6 - Determine whether there is a connection between 'age' and 'marital_status' with a line chart exploring 'age' and  'num_dependants'"
   ]
  },
  {
   "cell_type": "code",
   "execution_count": 24,
   "id": "fd6d5344",
   "metadata": {},
   "outputs": [],
   "source": [
    "# Creating df using small sample for viz. (small used to save processing power)\n",
    "master_df_4 = small[['age', 'n_dependants']]"
   ]
  },
  {
   "cell_type": "code",
   "execution_count": 25,
   "id": "35639df1",
   "metadata": {},
   "outputs": [
    {
     "data": {
      "image/png": "[encoded data removed]",
      "text/plain": [
       "<Figure size 432x288 with 1 Axes>"
      ]
     },
     "metadata": {
      "needs_background": "light"
     },
     "output_type": "display_data"
    }
   ],
   "source": [
    "age_dependants_line = sns.lineplot(data = master_df_4, x = 'age', y = 'n_dependants')"
   ]
  },
  {
   "cell_type": "code",
   "execution_count": null,
   "id": "1c55abd4",
   "metadata": {},
   "outputs": [],
   "source": [
    "# Describe line chart\n",
    "This line shows that there customers whos age ranges from 18 - 80. The number of dependents is highly varied across all age\n",
    "ranges. Ages and number of dependents appear to have no correlation. "
   ]
  },
  {
   "cell_type": "markdown",
   "id": "3b8f8f2c",
   "metadata": {},
   "source": [
    "    # Task 7 - Explore connection between age and spending power"
   ]
  },
  {
   "cell_type": "code",
   "execution_count": 29,
   "id": "f3e56c21",
   "metadata": {},
   "outputs": [],
   "source": [
    "# Creating df using small sample for viz. (small used to save processing power)\n",
    "master_df_5 = small[['age', 'spending' ]]"
   ]
  },
  {
   "cell_type": "code",
   "execution_count": 31,
   "id": "37e86a36",
   "metadata": {},
   "outputs": [
    {
     "data": {
      "image/png": "[encoded data removed]",
      "text/plain": [
       "<Figure size 432x288 with 1 Axes>"
      ]
     },
     "metadata": {
      "needs_background": "light"
     },
     "output_type": "display_data"
    }
   ],
   "source": [
    "age_spending_scatter = sns.scatterplot(x = 'spending', y = 'age', data = master_df)"
   ]
  },
  {
   "cell_type": "code",
   "execution_count": null,
   "id": "cfdd8101",
   "metadata": {},
   "outputs": [],
   "source": [
    "# Describe scatterplot\n",
    "This plot shows that most spending up to $5 is consistant across all ages. As the price of the product increases \n",
    "there are considerably less purchases that are not tied to a specific age group. "
   ]
  },
  {
   "cell_type": "markdown",
   "id": "d70be5eb",
   "metadata": {},
   "source": [
    "    # Task 8 - Export all visualisations into relivent folder"
   ]
  },
  {
   "cell_type": "code",
   "execution_count": 33,
   "id": "2572be8b",
   "metadata": {},
   "outputs": [],
   "source": [
    "day_of_week_bar.figure.savefig(os.path.join(path, '04 Analysis','Visualisations', 'day_of_week_bar_orders.png'))"
   ]
  },
  {
   "cell_type": "code",
   "execution_count": 34,
   "id": "9c36e0c0",
   "metadata": {},
   "outputs": [],
   "source": [
    "price_hist.figure.savefig(os.path.join(path, '04 Analysis','Visualisations', 'price_hist.png'))"
   ]
  },
  {
   "cell_type": "code",
   "execution_count": 35,
   "id": "c5544c8b",
   "metadata": {},
   "outputs": [],
   "source": [
    "prices_scatter.figure.savefig(os.path.join(path, '04 Analysis','Visualisations', 'prices_scatter.png'))"
   ]
  },
  {
   "cell_type": "code",
   "execution_count": 36,
   "id": "e44423b0",
   "metadata": {},
   "outputs": [],
   "source": [
    "weekday_prices_line.figure.savefig(os.path.join(path, '04 Analysis','Visualisations', 'weekday_prices_line.png'))"
   ]
  },
  {
   "cell_type": "code",
   "execution_count": 37,
   "id": "8b2214a9",
   "metadata": {},
   "outputs": [],
   "source": [
    "hour_of_day_hist.figure.savefig(os.path.join(path, '04 Analysis','Visualisations', 'hour_of_day_hist.png'))"
   ]
  },
  {
   "cell_type": "code",
   "execution_count": 38,
   "id": "ebd56e20",
   "metadata": {},
   "outputs": [],
   "source": [
    "loyalty_bar.figure.savefig(os.path.join(path, '04 Analysis','Visualisations', 'loyalty_bar.png'))"
   ]
  },
  {
   "cell_type": "code",
   "execution_count": 39,
   "id": "0276e2d9",
   "metadata": {},
   "outputs": [],
   "source": [
    "hour_prices_line.figure.savefig(os.path.join(path, '04 Analysis','Visualisations', 'hour_prices_line.png'))"
   ]
  },
  {
   "cell_type": "code",
   "execution_count": 40,
   "id": "777ba8ef",
   "metadata": {},
   "outputs": [],
   "source": [
    "age_dependants_line.figure.savefig(os.path.join(path, '04 Analysis','Visualisations', 'age_dependants_line.png'))"
   ]
  },
  {
   "cell_type": "code",
   "execution_count": 41,
   "id": "4d0e37ac",
   "metadata": {},
   "outputs": [],
   "source": [
    "age_spending_scatter.figure.savefig(os.path.join(path, '04 Analysis','Visualisations', 'age_spending_scatter.png'))"
   ]
  }
 ],
 "metadata": {
  "kernelspec": {
   "display_name": "Python 3 (ipykernel)",
   "language": "python",
   "name": "python3"
  },
  "language_info": {
   "codemirror_mode": {
    "name": "ipython",
    "version": 3
   },
   "file_extension": ".py",
   "mimetype": "text/x-python",
   "name": "python",
   "nbconvert_exporter": "python",
   "pygments_lexer": "ipython3",
   "version": "3.9.7"
  }
 },
 "nbformat": 4,
 "nbformat_minor": 5
}
